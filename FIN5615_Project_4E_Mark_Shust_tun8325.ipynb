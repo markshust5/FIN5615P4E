{
 "cells": [
  {
   "cell_type": "markdown",
   "metadata": {},
   "source": [
    "<h2>FIN5615 Project #4E\n",
    "    <p class=\"text-primary\">Algorithmic Trading</p>\n",
    "</h2>\n",
    "\n",
    "<div class = \"alert alert-block alert-danger\">\n",
    "    <b>Due Date</b>: TBD\n",
    "</div>  \n",
    "<div class = \"panel panel-success\">\n",
    "    <div class = \"panel-heading\"> \n",
    "    <span style=\"color:black\"><b>Project Introduction</b>\n",
    "    </div>\n",
    "    <div class = \"panel-body\"> \n",
    "    In this project you will develop and backtest an algorithmic trading model / strategy of your design. You may use any of the datasets from the course for this project.\n",
    "    </div>\n",
    "</div>\n",
    "\n",
    "<div class = \"panel panel-info\">\n",
    "    <div class = \"panel-heading\"> \n",
    "    <span style=\"color:black\"><b>Instructions</b>\n",
    "    </div>\n",
    "    <div class = \"panel-body\"> \n",
    "    Please code you solutions directly in this Notebook under each task in the cells provided below. Include all code used to produce your results, and support your answers with textual explanations if neccessary. You may feel free to add additional Code and/or Markdown cells as needed. Code must be written using **Python 3**.\n",
    "    <br><br>Please order the cells in your Notebook in the order in which they are intended to run! It is expected that your Notebook is able to run in sequence from start to finish without any errors (before submitting check by: `Kernel > Restart & Run All`).\n",
    "    <br><br>Once ready, please submit your assignment as an **.ipynb file** (`File > Download as > Notebook`). You must name your files in the following format: **`FIN5615_Assignmnet_1_Richard_Lee_tuc12345.ipynb`**.\n",
    "    </div>\n",
    "</div>\n",
    "\n",
    "---\n",
    "<div class = \"alert alert-block alert-warning\">\n",
    "    <b>Note</b>: Add any additional libraries that you plan on using to the import statements in the code block below.\n",
    "</div>"
   ]
  },
  {
   "cell_type": "code",
   "execution_count": 3,
   "metadata": {},
   "outputs": [],
   "source": [
    "import numpy as np\n",
    "import math\n",
    "import pandas as pd\n",
    "import matplotlib.pyplot as plt"
   ]
  },
  {
   "cell_type": "markdown",
   "metadata": {},
   "source": [
    "<div class = \"panel panel-primary\">\n",
    "    <div class = \"panel-heading\"> \n",
    "    <span style=\"color:white\"><b>Task 1</b>\n",
    "    </div>\n",
    "    <div class = \"panel-body\"> \n",
    "    Propose an algorithmic trading strategy and/or model. Describe the logic and steps to your trading algorithm in detail. \n",
    "    <br><br>\n",
    "    <ul>\n",
    "        <li>What is the hypothesis that inspired this strategy?</li>\n",
    "        <li>What are you predicting?</li>\n",
    "        <li>What are the explanatory variables / trading signals?</li>\n",
    "        <li>When will you buy / sell?</li>\n",
    "        <li>What will be your training data? What will be your validation data?</li>\n",
    "        <li>How will you backtest and benchmark your algorithm's performance?</li>\n",
    "    </ul>\n",
    "    </div>\n",
    "</div>"
   ]
  },
  {
   "cell_type": "markdown",
   "metadata": {},
   "source": [
    "Our strategy will be a momentum trade. We will be taking long positions in the top 15 best performing stocks of the last 3 years. Recently the biggest winners have time and time again been the smae big tech stocks and with the uncertantiy in the market plus the dercreaed possability that there will be strong legistlation against large campanies we want to stick with the winners. If possible we will also short the worst 15 performing stocks over that same period.\n",
    "\n",
    "I am predicting that we will have mostly high tech stocks that have killed it the past decade and may contunie to do so. I see them all bing the FAANGS and related stocks that would have been a great investment in the past few years. \n",
    "\n",
    "Our trade signal will just to take a portfolio of the top 15 performing stocks equally weighted in our portfolio. We will buy and hold and rebalance  at the start of every year on jan 1.\n",
    "\n",
    "\n",
    "####SOMONE ELSE ANWER THE VALIDATION QUESTION\n",
    "\n",
    "we wil backtest the benchmark againt the sp500 given in the ETF folder\n"
   ]
  },
  {
   "cell_type": "markdown",
   "metadata": {},
   "source": [
    "WHAT WE NEED TO DO\n",
    "\n",
    "1. Import the data\n",
    "    we need s&p 500 data tha lines up with the individual stock data\n",
    "    \n",
    "2. We need to find a way to find returns ever year on an anual basis\n",
    "\n",
    "\n",
    "3. We need to take the top 15 and weight them equally at the start of the year\n",
    "\n",
    "4. take that performance agaisnt the S&P 500 each year\n",
    "\n",
    "5. Rebalance every year "
   ]
  },
  {
   "cell_type": "markdown",
   "metadata": {},
   "source": [
    "<div class = \"panel panel-primary\">\n",
    "    <div class = \"panel-heading\"> \n",
    "    <span style=\"color:white\"><b>Task 2</b>\n",
    "    </div>\n",
    "    <div class = \"panel-body\"> \n",
    "    Gather the data you plan on using. Split your data into a <b>training dataset</b> and a <b>validation dataset</b>.\n",
    "    </div>\n",
    "</div>"
   ]
  },
  {
   "cell_type": "code",
   "execution_count": 33,
   "metadata": {},
   "outputs": [
    {
     "data": {
      "text/plain": [
       "[]"
      ]
     },
     "execution_count": 33,
     "metadata": {},
     "output_type": "execute_result"
    }
   ],
   "source": [
    "SandP100 =[]\n",
    "path = \"/Users/mark/Desktop/SP100\"\n",
    "for stock in SandP100:\n",
    "    df =  pd.read_csv(f'{path}/_SP100.csv',)\n",
    "    SandP100.append(df)\n",
    "    \n",
    "SandP100\n",
    "    \n"
   ]
  },
  {
   "cell_type": "code",
   "execution_count": 31,
   "metadata": {},
   "outputs": [
    {
     "name": "stdout",
     "output_type": "stream",
     "text": [
      "   Ticker                   Company\n",
      "0    AAPL                Apple Inc.\n",
      "1    ABBV               AbbVie Inc.\n",
      "2     ABT       Abbott Laboratories\n",
      "3     ACN                 Accenture\n",
      "4    ADBE                Adobe Inc.\n",
      "..    ...                       ...\n",
      "94     VZ    Verizon Communications\n",
      "95    WBA  Walgreens Boots Alliance\n",
      "96    WFC               Wells Fargo\n",
      "97    WMT                   Walmart\n",
      "98    XOM         Exxon Mobil Corp.\n",
      "\n",
      "[99 rows x 2 columns]\n"
     ]
    }
   ],
   "source": [
    "\n",
    "\n",
    "path=\"/Users/mark/Desktop/SP100\"\n",
    "sp100 = pd.read_csv(f'{path}/_SP100.csv')\n",
    "print(sp100)\n",
    "\n"
   ]
  },
  {
   "cell_type": "code",
   "execution_count": null,
   "metadata": {},
   "outputs": [],
   "source": [
    "stock_frames = {}\n",
    "for ticker in sp100.loc[:,'Ticker'] :\n",
    "    stock_frames[ticker] = pd.read_csv(f'{path}/{ticker}.csv', usecols =['Date','Adj Close'], index_col = ['Date'])\n",
    "    \n",
    "print(stock_frames)"
   ]
  },
  {
   "cell_type": "markdown",
   "metadata": {},
   "source": [
    "<div class = \"panel panel-primary\">\n",
    "    <div class = \"panel-heading\"> \n",
    "    <span style=\"color:white\"><b>Task 3</b>\n",
    "    </div>\n",
    "    <div class = \"panel-body\"> \n",
    "    Develop your trading algorithm using the <b>training dataset</b>. \n",
    "    <br><br>\n",
    "    How well does your algorithm perform over the training period? How much capital was deployed?\n",
    "    </div>\n",
    "</div>"
   ]
  },
  {
   "cell_type": "code",
   "execution_count": null,
   "metadata": {
    "collapsed": true
   },
   "outputs": [],
   "source": []
  },
  {
   "cell_type": "markdown",
   "metadata": {},
   "source": [
    "<div class = \"panel panel-primary\">\n",
    "    <div class = \"panel-heading\"> \n",
    "    <span style=\"color:white\"><b>Task 4</b>\n",
    "    </div>\n",
    "    <div class = \"panel-body\"> \n",
    "    Backtest your trading algorithm on the <b>validation datset</b>.\n",
    "    <br><br>\n",
    "    How well does your algorithm perform over the validation period? How much capital was deployed? \n",
    "    </div>\n",
    "</div>"
   ]
  },
  {
   "cell_type": "code",
   "execution_count": null,
   "metadata": {
    "collapsed": true
   },
   "outputs": [],
   "source": []
  },
  {
   "cell_type": "markdown",
   "metadata": {},
   "source": [
    "<div class = \"panel panel-primary\">\n",
    "    <div class = \"panel-heading\"> \n",
    "    <span style=\"color:white\"><b>Task 5</b>\n",
    "    </div>\n",
    "    <div class = \"panel-body\"> \n",
    "    Compare your algorithm's performance against the <b>benchmark model</b>.\n",
    "    <br><br>\n",
    "    Does your trading algorithm out-perform the benchmark in terms of profit / loss when assuming the same amount of capital deployed?\n",
    "    </div>\n",
    "</div>"
   ]
  },
  {
   "cell_type": "code",
   "execution_count": null,
   "metadata": {
    "collapsed": true
   },
   "outputs": [],
   "source": []
  }
 ],
 "metadata": {
  "kernelspec": {
   "display_name": "Python 3",
   "language": "python",
   "name": "python3"
  },
  "language_info": {
   "codemirror_mode": {
    "name": "ipython",
    "version": 3
   },
   "file_extension": ".py",
   "mimetype": "text/x-python",
   "name": "python",
   "nbconvert_exporter": "python",
   "pygments_lexer": "ipython3",
   "version": "3.7.4"
  }
 },
 "nbformat": 4,
 "nbformat_minor": 2
}
